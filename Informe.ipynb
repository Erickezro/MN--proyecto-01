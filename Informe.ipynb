{
 "cells": [
  {
   "cell_type": "markdown",
   "metadata": {},
   "source": [
    "# Escuela Politécnica Nacional\n",
    "# Métodos Numéricos - Primer Bimestre\n",
    "## Informe del proyecto del sobrevuelo\n",
    "### Integrantes:\n",
    "### - Bautista Alexis\n",
    "### - Egas David\n",
    "### - Ochoa Aubertin\n",
    "### - Romero Erick\n",
    "\n",
    "## 29/11/2024"
   ]
  },
  {
   "cell_type": "markdown",
   "metadata": {},
   "source": [
    "## Objetivos\n",
    "Desarrollar un programa gráfico interactivo que permita simular la trayectoria de una bomba lanzada desde un avión, considerando variables físicas como la velocidad inicial, altura del avión, características del cañón, ángulo de lanzamiento y distancia, con el fin de analizar y visualizar el comportamiento de la trayectoria.\n"
   ]
  },
  {
   "cell_type": "markdown",
   "metadata": {},
   "source": [
    "## Metodología\n",
    "### Descripción de la Solución\n"
   ]
  },
  {
   "cell_type": "markdown",
   "metadata": {},
   "source": [
    "# Desarrollo Matemático de la Trayectoria\n",
    "\n",
    "El programa simula la trayectoria de una bomba lanzada desde un avión en movimiento horizontal. La trayectoria se calcula utilizando las ecuaciones del movimiento parabólico bajo la influencia de la gravedad, considerando los siguientes parámetros:\n",
    "\n",
    "- **v**: Velocidad del avión (m/s).\n",
    "- **h<sub>a</sub>**: Altura inicial del avión (m).\n",
    "- **h<sub>c</sub>**: Altura del cañón (m).\n",
    "- **α**: Ángulo de inclinación del cañón respecto al eje horizontal (°).\n",
    "- **d**: Distancia horizontal inicial desde el borde del cañón (m).\n",
    "- **L**: Longitud del cañón (m).\n",
    "- **g**: Aceleración gravitacional (g = 9.81 m/s²).\n",
    "\n",
    "## 1. Posición Inicial del Avión\n",
    "\n",
    "El avión vuela a una altura constante **h<sub>a</sub>** con velocidad horizontal **v**. La posición inicial en el eje horizontal (**x<sub>0</sub>**) se determina considerando el tiempo que la bomba tarda en caer (**t<sub>total</sub>**) desde **h<sub>a</sub>** hasta el suelo:     \n",
    "\n",
    "\n",
    "t<sub>total</sub> = $\\sqrt{\\frac{2h_a}{g}}$\n",
    "\n",
    "x<sub>0</sub> = x<sub>impacto</sub> - v * t<sub>total</sub> \n",
    "\n",
    "\n",
    "\n",
    "\n",
    "Donde **x<sub>impacto</sub>** es la posición horizontal donde se espera que la bomba impacte al cañón, calculada como:\n",
    "\n",
    "\n",
    "\n",
    "x<sub>impacto</sub> = $d + \\frac{L}{2} $\n",
    "\n",
    "\n",
    "\n",
    "## 2. Ecuaciones de Movimiento\n",
    "\n",
    "La trayectoria de la bomba se describe mediante las ecuaciones de movimiento parabólico:\n",
    "\n",
    "- **Posición horizontal**:\n",
    "\n",
    "\n",
    " x(t) = x<sub>0</sub> + v * t \n",
    "\n",
    "\n",
    "\n",
    "- **Posición vertical**:\n",
    "\n",
    "\n",
    " y(t) = h<sub>a</sub> - $\\frac{1}{2} g * t^2 $\n",
    "\n",
    "\n",
    "\n",
    "## 3. Determinación del Impacto\n",
    "\n",
    "Para verificar si la bomba impacta el cañón, se evalúa si la trayectoria intercepta las coordenadas del cañón (**d ≤ x ≤ d + L**) dentro de su altura (**-h<sub>c</sub>**):\n",
    "\n",
    "Si **y(t) ≤ -h<sub>c</sub>** cuando **x(t)** está dentro del rango del cañón, entonces hay impacto exitoso. Si se requiere mayor precisión, se utiliza interpolación lineal entre los puntos cercanos para determinar con exactitud el valor de **x** correspondiente a **y = -h<sub>c</sub>**.\n",
    "\n",
    "## Simplificación Gráfica del Cañón\n",
    "\n",
    "El cañón se representa como un trapecio isósceles invertido. Las coordenadas de los vértices son calculadas considerando su inclinación (**α**):\n",
    "\n",
    "- **Base superior**: **d**\n",
    "- **Base inferior**: **d + L**\n",
    "- **Altura**: **h<sub>c</sub>**\n",
    "- **Inclinación**: **tan(α)**\n",
    "\n",
    "El trapecio asegura que la representación sea visualmente coherente con la posición del impacto.\n"
   ]
  },
  {
   "cell_type": "markdown",
   "metadata": {},
   "source": [
    "### Desarrollo matemático.\n",
    "### Diagrama de flujo / pseudocódigo.\n",
    "### Detalles importantes de la implementación."
   ]
  }
 ],
 "metadata": {
  "language_info": {
   "name": "python"
  }
 },
 "nbformat": 4,
 "nbformat_minor": 2
}
