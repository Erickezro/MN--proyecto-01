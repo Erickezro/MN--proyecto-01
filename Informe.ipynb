{
 "cells": [
  {
   "cell_type": "markdown",
   "metadata": {},
   "source": [
    "# Escuela Politécnica Nacional  \n",
    "# Métodos Numéricos - Primer Bimestre  \n",
    "## Informe del proyecto del sobrevuelo  \n",
    "**Integrantes:**\n",
    "- Bautista Alexis\n",
    "- Egas David\n",
    "- Ochoa Aubertin\n",
    "- Romero Erick\n",
    "\n",
    "**Fecha de Presentación:** 30/11/2024"
   ]
  },
  {
   "cell_type": "markdown",
   "metadata": {},
   "source": [
    "## Objetivos\n",
    "\n",
    "### Objetivo General\n",
    "Desarrollar un programa gráfico interactivo en Python que simule la trayectoria de una bomba lanzada desde un avión hacia un objetivo representado por un trapecio isósceles invertido, incorporando variables físicas relevantes como velocidad inicial, altura del avión, ángulo de lanzamiento, y características del cañón, para analizar y visualizar de manera precisa el comportamiento de la trayectoria.\n",
    "\n",
    "### Objetivos Especificos\n",
    "- Diseñar una interfaz gráfica de usuario interactiva que permita a los usuarios modificar variables como velocidad inicial, altura, ángulo y características del cañón, visualizando en tiempo real el impacto de estos parámetros en la trayectoria simulada.\n",
    "- Desarrollar una interfaz visual que incluyan gráficos dinámicos, indicación del punto de impacto, y la representación clara del objetivo en forma de trapecio isósceles invertido, para facilitar la interpretación de resultados."
   ]
  },
  {
   "cell_type": "markdown",
   "metadata": {},
   "source": [
    "## Metodología\n",
    "\n",
    "### Introducción a la Metodología\n",
    "\n",
    "La metodología propuesta se centra en desarrollar una simulación interactiva que permita modelar y analizar la trayectoria de una bomba lanzada desde un avión hacia un cañón, considerando variables físicas y geométricas. Este proceso combina principios de física, matemáticas, y desarrollo de software, utilizando Python y bibliotecas específicas para cálculos, visualización gráfica y diseño de interfaces.\n",
    "\n",
    "### Descripción de la Solución\n",
    "\n",
    "El problema plantea un escenario donde un avión vuela con velocidad constante $v$ a una altura $H_a$, lanzando una bomba hacia un cañón con forma de trapecio isósceles invertido. Para determinar si la bomba impacta el cañón, se implementa un modelo físico del movimiento parabólico. \n",
    "El objetivo es calcular las coordenadas de la trayectoria $(x,y)$ y determinar si el impacto ocurre dentro del cañón.\n",
    "\n",
    "\n"
   ]
  },
  {
   "cell_type": "markdown",
   "metadata": {},
   "source": [
    "## Desarrollo Matemático de la Trayectoria\n",
    "\n",
    "El programa para simular la trayectoria de una bomba utilizanda las ecuaciones del movimiento parabólico bajo la influencia de la gravedad, considerando los siguientes parámetros:\n",
    "\n",
    "- **v**: Velocidad del avión (m/s).\n",
    "- **h<sub>a</sub>**: Altura inicial del avión (m).\n",
    "- **h<sub>c</sub>**: Altura del cañón (m).\n",
    "- **α**: Ángulo de inclinación del cañón respecto al eje horizontal (°).\n",
    "- **d**: Distancia horizontal inicial desde el borde del cañón (m).\n",
    "- **L**: Longitud del cañón (m).\n",
    "- **g**: Aceleración gravitacional (g = 9.81 m/s²).\n",
    "\n",
    "### 1. Posición Inicial del Avión\n",
    "\n",
    "El avión vuela a una altura constante **h<sub>a</sub>** con velocidad horizontal **v**. La posición inicial en el eje horizontal (**x<sub>0</sub>**) se determina considerando el tiempo que la bomba tarda en caer (**t<sub>total</sub>**) desde **h<sub>a</sub>** hasta el suelo:     \n",
    "\n",
    "\n",
    "t<sub>total</sub> = $\\sqrt{\\frac{2h_a}{g}}$\n",
    "\n",
    "x<sub>0</sub> = x<sub>impacto</sub> - v * t<sub>total</sub> \n",
    "\n",
    "\n",
    "\n",
    "\n",
    "Donde **x<sub>impacto</sub>** es la posición horizontal donde se espera que la bomba impacte al cañón, calculada como:\n",
    "\n",
    "\n",
    "\n",
    "x<sub>impacto</sub> = $d + \\frac{L}{2} $\n",
    "\n",
    "\n",
    "\n",
    "### 2. Ecuaciones de Movimiento\n",
    "\n",
    "La trayectoria de la bomba se describe mediante las ecuaciones de movimiento parabólico:\n",
    "\n",
    "- **Posición horizontal**:\n",
    "\n",
    "\n",
    " x(t) = x<sub>0</sub> + v * t \n",
    "\n",
    "\n",
    "\n",
    "- **Posición vertical**:\n",
    "\n",
    "\n",
    " y(t) = h<sub>a</sub> - $\\frac{1}{2} g * t^2 $\n",
    "\n",
    "\n",
    "\n",
    "### 3. Determinación del Impacto\n",
    "\n",
    "Para verificar si la bomba impacta el cañón, se evalúa si la trayectoria intercepta las coordenadas del cañón (**d ≤ x ≤ d + L**) dentro de su altura (**-h<sub>c</sub>**):\n",
    "\n",
    "Si **y(t) ≤ -h<sub>c</sub>** cuando **x(t)** está dentro del rango del cañón, entonces hay impacto exitoso. Si se requiere mayor precisión, se utiliza interpolación lineal entre los puntos cercanos para determinar con exactitud el valor de **x** correspondiente a **y = -h<sub>c</sub>**.\n",
    "\n",
    "### Simplificación Gráfica del Cañón\n",
    "\n",
    "El cañón se representa como un trapecio isósceles invertido. Las coordenadas de los vértices son calculadas considerando su inclinación (**α**):\n",
    "\n",
    "- **Base superior**: **d**\n",
    "- **Base inferior**: **d + L**\n",
    "- **Altura**: **h<sub>c</sub>**\n",
    "- **Inclinación**: **tan(α)**\n",
    "\n",
    "El trapecio asegura que la representación sea visualmente coherente con la posición del impacto.\n"
   ]
  },
  {
   "cell_type": "markdown",
   "metadata": {},
   "source": [
    "## Implementación Técnica\n",
    "\n",
    "### 1. Selección de Bibliotecas\n",
    "\n",
    "- Cálculos matemáticos: numpy para operaciones vectoriales y scipy.interpolate para interpolaciones.\n",
    "- Visualización: matplotlib para gráficos estáticos y animaciones con FuncAnimation.\n",
    "- Interfaz gráfica: tkinter para capturar datos de usuario y manejar errores, y Pillow para mejorar el diseño con imágenes.\n",
    "\n",
    "### 2. Estructura del Código\n",
    "\n",
    "- Módulo de Cálculo: Genera la trayectoria y determina el impacto.\n",
    "- Módulo de Visualización: Representa gráficamente la trayectoria, el avión, y el cañón.\n",
    "- Interfaz Gráfica de Usuario: Permite ingresar parámetros, verificar valores, y mostrar resultados."
   ]
  },
  {
   "cell_type": "markdown",
   "metadata": {},
   "source": [
    "## Pasos Metodológicos\n",
    "\n",
    "- Definición del Problema: Se estableció las ecuaciones y parámetros físicos requeridos para modelar el escenario.\n",
    "\n",
    "- Diseño de la Interfaz Gráfica: Se creó una GUI amigable que permite:\n",
    "    - Ingreso de parámetros de manera controlada.\n",
    "    - Validación de datos para evitar errores en los cálculos.\n",
    "    - Implementación del Modelo Matemático\n",
    "\n",
    "- Simulación y Visualización\n",
    "    - Generar gráficos dinámicos de la trayectoria.\n",
    "    - Superponer el cañón como un trapecio isósceles invertido.\n",
    "\n",
    "- Validación del Modelo: Se realizó pruebas con escenarios controlados para verificar la precisión del modelo y corregir discrepancias.\n",
    "\n",
    "- Documentación: Se redacto un manual técnico y de usuario que detalla el funcionamiento del programa. "
   ]
  },
  {
   "cell_type": "markdown",
   "metadata": {},
   "source": [
    "# Implementación\n",
    "\n",
    "El archivo solver.py es donde se encuentra la lógica para solucionar el problema implementa una función llamada calcular_trayectoria, que utiliza ecuaciones del movimiento parabólico para calcular la trayectoria de una bomba lanzada desde un avión y determinar si impacta en un cañón. La función toma como parámetros la velocidad inicial del avión, la altura inicial, la geometría del cañón (altura, longitud y ángulo de inclinación), y la distancia horizontal inicial. Calcula las posiciones horizontales y verticales $(x,y)$ a lo largo del tiempo usando simulaciones temporales con precisión ajustada. Además, verifica si la trayectoria intercepta el suelo o el área representada por el cañón, devolviendo las coordenadas del impacto y un indicador de éxito o fracaso en el alcance del objetivo. Esto se logra mediante iteraciones y verificaciones condicionales sobre las posiciones calculadas.\n",
    "\n",
    "El archivo gui_input.py crea una interfaz gráfica en Python utilizando Tkinter para capturar y validar los datos necesarios para simular la trayectoria de una bomba. El flujo comienza con una ventana de bienvenida que presenta el proyecto y a los integrantes, mostrando también una imagen relevante. Posteriormente, al ingresar a la segunda ventana, el usuario puede ingresar parámetros como la velocidad del avión, altura, distancia y características del cañón. Cada entrada está vinculada a una variable que se valida antes de procesar los datos, asegurando que sean lógicos y correctos (por ejemplo, valores positivos o rangos válidos). En caso de error, se muestra un mensaje emergente informando al usuario. Si los datos son válidos, se llama a una función para calcular y mostrar los resultados de la simulación en otra ventana.\n",
    "\n",
    "El archivo gui_output.py se encarga de visualizar la simulación de la trayectoria de la bomba y mostrar los resultados. Después de calcular la trayectoria de la bomba utilizando la función calcular_trayectoria, se configura una gráfica en la que se dibuja la trayectoria de la bomba y el cañón (representado por un trapecio invertido). Usando matplotlib y FuncAnimation, la trayectoria se anima en tiempo real, mostrando cómo la bomba se desplaza hasta el suelo o el cañón. Al finalizar la animación, se muestra un mensaje emergente con el resultado: si la bomba impacta el suelo o el cañón, se informa la ubicación del impacto; si no, se indica que no hubo impacto. Esto proporciona una visualización interactiva y detallada del comportamiento de la bomba en su trayecto."
   ]
  }
 ],
 "metadata": {
  "language_info": {
   "name": "python"
  }
 },
 "nbformat": 4,
 "nbformat_minor": 2
}
